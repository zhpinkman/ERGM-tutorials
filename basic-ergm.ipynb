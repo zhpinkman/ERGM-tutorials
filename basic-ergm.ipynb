{
 "cells": [
  {
   "cell_type": "markdown",
   "id": "659829d0-4b1a-4af2-bb20-3554aa40387a",
   "metadata": {},
   "source": [
    "## Introduction"
   ]
  },
  {
   "cell_type": "markdown",
   "id": "e21ea9c7-fe14-4c2d-a6b8-9388b3f7fd2d",
   "metadata": {},
   "source": [
    "Exponential-family random graph models (ERGMs) represent a general class of models based in exponential-family theory for specifying the probability distribution for a set of random graphs or networks. Within this framework, one can—among other tasks—obtain maximum-likehood estimates for the parameters of a specified model for a given data set; test individual models for goodness-of-fit, perform various types of model comparison; and simulate additional networks with the underlying probability distribution implied by that model."
   ]
  },
  {
   "cell_type": "markdown",
   "id": "400673c6-3064-41dd-b37e-a12cbc7d828d",
   "metadata": {},
   "source": [
    "The purpose of representing the graphs or networks in this exponential shape is to allow them take a positive value and also measure the probability associated with the given adjacency matrix for the graph at hand which is the most intuitive way of making the $g$ statistics as a probability measure."
   ]
  },
  {
   "cell_type": "markdown",
   "id": "a583b775-3b5a-434f-a84e-a1572902b9d7",
   "metadata": {},
   "source": [
    "The basic equation of ergm models are presented below.\n",
    "\n",
    "$P(Y = y) = \\frac{e^{\\theta^Tg(y)}}{\\kappa(\\theta)}$\n",
    "\n",
    "$\\kappa(\\theta) = \\sum_{x \\in Y}{e^{\\theta^Tg(x)}}$\n",
    "\n",
    "$Y$ represents the Random Variable for all the graphs, and $y$ represents the graph at hand.\n",
    "\n",
    "$g$ stands for the statistics we want to include in our model.\n",
    "\n",
    "$\\kappa(\\theta)$ is a normalizing term to make the whole equation as a probability measure."
   ]
  },
  {
   "cell_type": "markdown",
   "id": "8508177b-7bf5-433d-8492-c41c79f42003",
   "metadata": {},
   "source": [
    "### Logodds, Logit and Interpreting the Results"
   ]
  },
  {
   "cell_type": "markdown",
   "id": "8f9d4412-3a84-47cc-87ef-9d80bfa0395a",
   "metadata": {},
   "source": [
    "We are used to thinking about probability as a number between 0 and 1 (or equivalently, 0 to 100%). But this is just a particular mathematical representation of the “degree of plausibility.”\n",
    "\n",
    "There is a second representation of “degree of plausibility” with which you are familiar: odds ratios. For example, if I tell you that “the odds that an observation is correctly classified is 2:1”, you can check that the probability of correct classification is two thirds. Similarly, “even odds” means 50%. In a similar fashion, the log-odds being the logarithm of odds is capturing a sense of probability of an event happening. There is acutally a term for this kind of capturing the probability called Evidence. The basic formula for evidence is the following: \n",
    "\n",
    "$Evidence = log_{10}(odds) = log_{10}(\\frac{p}{1 - p})$\n",
    "\n",
    "There is indeed, a relation between Evidence and how we try to explain the coefficients we get in our ERGM model.\n",
    "Assume two graphs having the same edges. We denote the graph having the edge $ij$ and all the other edges the same as $y^+_{ij}$. Also, we denote the graph lacking edge $ij$ and al the other edges alluded at first as $y^-_{ij}$.\n",
    "\n",
    "take the log of the division of the probability resulted by ERGM as follows: \n",
    "\n",
    "$log(\\frac{p(y^+_{ij})}{p(y^-_{ij})}) = \\theta^T[g(y^+_{ij}) - g(y^-_{ij})]$\n",
    "\n",
    "As you can see the left part of the equation results in a log odds format. So, we can state that with edge $ij$ being added to the network the evidence of the network would increase with the magnitude of $\\theta$.\n",
    "\n",
    "To link the basic understanding we develop here, you can think of the results with respect to their probability in the followin way: \n",
    "\n",
    "$\\;\\;\\;\\;\\;\\;\\;\\;\\;\\;\\;\\;\\;\\;odds = e^s$\n",
    "\n",
    "$P(True) = \\frac{e^s}{1 + e^s}\\;\\;\\;\\;\\;\\;\\;\\;\\;\\;P(False) = \\frac{1}{1 + e^s}$\n"
   ]
  },
  {
   "cell_type": "code",
   "execution_count": null,
   "id": "8379ac93-3a82-44a1-b88b-f76b56d1426f",
   "metadata": {},
   "outputs": [],
   "source": []
  },
  {
   "cell_type": "markdown",
   "id": "e57cb5eb-880e-4344-8c1b-54a55020cb73",
   "metadata": {},
   "source": [
    "### Erdos-Renyi\n",
    "\n",
    "An easy Example of this probabily model would be the Erdos-Renyi random model which accounts for the number of links in the model and density of the netowrk. \n",
    "\n",
    "Having the probability model of erdos-renyi graph, we can rewrite the equation and reach the final equation in the form of an ERGM. \n",
    "\n",
    "$l(g) = number\\;of\\;links$\n",
    "\n",
    "$P(x) = p^{l(g)}(1 - p)^{n(n-1)/2 - l(g)}$\n",
    "\n",
    "$P(x) = (\\frac{p}{1 - p})^{l(g)}(1-p)^{n(n-1)/2 - l(g)}$\n",
    "\n",
    "$P(x) = exp(logit(p)l(g) - c)$"
   ]
  },
  {
   "cell_type": "markdown",
   "id": "5ad8d4e0-c052-4129-bdaf-3c96dc11f743",
   "metadata": {},
   "source": [
    "### Importing the library statnet including all the required libraries for our work \n",
    "ergm, sna, and network packages are included (no need to be imported directly)"
   ]
  },
  {
   "cell_type": "code",
   "execution_count": 1,
   "id": "b2fa8c4d-688f-4ad0-b776-d54c5826bee7",
   "metadata": {
    "collapsed": true,
    "jupyter": {
     "outputs_hidden": true
    },
    "tags": []
   },
   "outputs": [
    {
     "name": "stderr",
     "output_type": "stream",
     "text": [
      "Loading required package: tergm\n",
      "\n",
      "Loading required package: ergm\n",
      "\n",
      "Loading required package: network\n",
      "\n",
      "network: Classes for Relational Data\n",
      "Version 1.16.1 created on 2020-10-06.\n",
      "copyright (c) 2005, Carter T. Butts, University of California-Irvine\n",
      "                    Mark S. Handcock, University of California -- Los Angeles\n",
      "                    David R. Hunter, Penn State University\n",
      "                    Martina Morris, University of Washington\n",
      "                    Skye Bender-deMoll, University of Washington\n",
      " For citation information, type citation(\"network\").\n",
      " Type help(\"network-package\") to get started.\n",
      "\n",
      "\n",
      "\n",
      "ergm: version 3.11.0, created on 2020-10-14\n",
      "Copyright (c) 2020, Mark S. Handcock, University of California -- Los Angeles\n",
      "                    David R. Hunter, Penn State University\n",
      "                    Carter T. Butts, University of California -- Irvine\n",
      "                    Steven M. Goodreau, University of Washington\n",
      "                    Pavel N. Krivitsky, UNSW Sydney\n",
      "                    Martina Morris, University of Washington\n",
      "                    with contributions from\n",
      "                    Li Wang\n",
      "                    Kirk Li, University of Washington\n",
      "                    Skye Bender-deMoll, University of Washington\n",
      "                    Chad Klumb\n",
      "                    Michał Bojanowski, Kozminski University\n",
      "                    Ben Bolker\n",
      "Based on \"statnet\" project software (statnet.org).\n",
      "For license and citation information see statnet.org/attribution\n",
      "or type citation(\"ergm\").\n",
      "\n",
      "\n",
      "NOTE: Versions before 3.6.1 had a bug in the implementation of the bd()\n",
      "constraint which distorted the sampled distribution somewhat. In\n",
      "addition, Sampson's Monks datasets had mislabeled vertices. See the\n",
      "NEWS and the documentation for more details.\n",
      "\n",
      "\n",
      "NOTE: Some common term arguments pertaining to vertex attribute and\n",
      "level selection have changed in 3.10.0. See terms help for more\n",
      "details. Use ‘options(ergm.term=list(version=\"3.9.4\"))’ to use old\n",
      "behavior.\n",
      "\n",
      "\n",
      "Loading required package: networkDynamic\n",
      "\n",
      "\n",
      "networkDynamic: version 0.10.1, created on 2020-01-16\n",
      "Copyright (c) 2020, Carter T. Butts, University of California -- Irvine\n",
      "                    Ayn Leslie-Cook, University of Washington\n",
      "                    Pavel N. Krivitsky, University of Wollongong\n",
      "                    Skye Bender-deMoll, University of Washington\n",
      "                    with contributions from\n",
      "                    Zack Almquist, University of California -- Irvine\n",
      "                    David R. Hunter, Penn State University\n",
      "                    Li Wang\n",
      "                    Kirk Li, University of Washington\n",
      "                    Steven M. Goodreau, University of Washington\n",
      "                    Jeffrey Horner\n",
      "                    Martina Morris, University of Washington\n",
      "Based on \"statnet\" project software (statnet.org).\n",
      "For license and citation information see statnet.org/attribution\n",
      "or type citation(\"networkDynamic\").\n",
      "\n",
      "\n",
      "\n",
      "tergm: version 3.7.0, created on 2020-10-15\n",
      "Copyright (c) 2020, Pavel N. Krivitsky, UNSW Sydney\n",
      "                    Mark S. Handcock, University of California -- Los Angeles\n",
      "                    with contributions from\n",
      "                    David R. Hunter, Penn State University\n",
      "                    Steven M. Goodreau, University of Washington\n",
      "                    Martina Morris, University of Washington\n",
      "                    Nicole Bohme Carnegie, New York University\n",
      "                    Carter T. Butts, University of California -- Irvine\n",
      "                    Ayn Leslie-Cook, University of Washington\n",
      "                    Skye Bender-deMoll\n",
      "                    Li Wang\n",
      "                    Kirk Li, University of Washington\n",
      "                    Chad Klumb\n",
      "Based on \"statnet\" project software (statnet.org).\n",
      "For license and citation information see statnet.org/attribution\n",
      "or type citation(\"tergm\").\n",
      "\n",
      "\n",
      "Loading required package: ergm.count\n",
      "\n",
      "\n",
      "ergm.count: version 3.4.0, created on 2019-05-15\n",
      "Copyright (c) 2019, Pavel N. Krivitsky, University of Wollongong\n",
      "                    with contributions from\n",
      "                    Mark S. Handcock, University of California -- Los Angeles\n",
      "                    David R. Hunter, Penn State University\n",
      "Based on \"statnet\" project software (statnet.org).\n",
      "For license and citation information see statnet.org/attribution\n",
      "or type citation(\"ergm.count\").\n",
      "\n",
      "\n",
      "NOTE: The form of the term ‘CMP’ has been changed in version 3.2 of\n",
      "‘ergm.count’. See the news or help('CMP') for more information.\n",
      "\n",
      "\n",
      "Loading required package: sna\n",
      "\n",
      "Loading required package: statnet.common\n",
      "\n",
      "\n",
      "Attaching package: ‘statnet.common’\n",
      "\n",
      "\n",
      "The following object is masked from ‘package:base’:\n",
      "\n",
      "    order\n",
      "\n",
      "\n",
      "sna: Tools for Social Network Analysis\n",
      "Version 2.6 created on 2020-10-5.\n",
      "copyright (c) 2005, Carter T. Butts, University of California-Irvine\n",
      " For citation information, type citation(\"sna\").\n",
      " Type help(package=\"sna\") to get started.\n",
      "\n",
      "\n",
      "Loading required package: tsna\n",
      "\n",
      "\n",
      "statnet: version 2019.6, created on 2019-06-13\n",
      "Copyright (c) 2019, Mark S. Handcock, University of California -- Los Angeles\n",
      "                    David R. Hunter, Penn State University\n",
      "                    Carter T. Butts, University of California -- Irvine\n",
      "                    Steven M. Goodreau, University of Washington\n",
      "                    Pavel N. Krivitsky, University of Wollongong\n",
      "                    Skye Bender-deMoll\n",
      "                    Martina Morris, University of Washington\n",
      "Based on \"statnet\" project software (statnet.org).\n",
      "For license and citation information see statnet.org/attribution\n",
      "or type citation(\"statnet\").\n",
      "\n",
      "\n",
      "\n",
      "There are updates for the following statnet packages on CRAN:\n",
      "\n"
     ]
    },
    {
     "name": "stdout",
     "output_type": "stream",
     "text": [
      "               Installed ReposVer Built  \n",
      "network        \"1.16.1\"  \"1.17.0\" \"4.1.0\"\n",
      "statnet.common \"4.4.1\"   \"4.5.0\"  \"4.1.0\"\n"
     ]
    },
    {
     "name": "stderr",
     "output_type": "stream",
     "text": [
      "Restart R and use \"statnet::update_statnet()\" to get the updates.\n",
      "\n"
     ]
    }
   ],
   "source": [
    "library('statnet')"
   ]
  },
  {
   "cell_type": "code",
   "execution_count": 2,
   "id": "0518bd1c-334e-4043-827a-ad0b84b60e26",
   "metadata": {},
   "outputs": [],
   "source": [
    "set.seed(0)\n",
    "# for the purpose of repeatability of the results"
   ]
  },
  {
   "cell_type": "code",
   "execution_count": 6,
   "id": "3a8c15b7-9977-4a50-ac30-35a5807597ae",
   "metadata": {},
   "outputs": [],
   "source": [
    "# Loading the dataset\n",
    "# This dataset contains two networks, namely, the flomarriage and flobusiness \n",
    "data(florentine)"
   ]
  },
  {
   "cell_type": "code",
   "execution_count": 7,
   "id": "a4770d6b-a644-464c-b2ee-d13be560d1a3",
   "metadata": {},
   "outputs": [
    {
     "data": {
      "text/plain": [
       " Network attributes:\n",
       "  vertices = 16 \n",
       "  directed = FALSE \n",
       "  hyper = FALSE \n",
       "  loops = FALSE \n",
       "  multiple = FALSE \n",
       "  bipartite = FALSE \n",
       "  total edges= 20 \n",
       "    missing edges= 0 \n",
       "    non-missing edges= 20 \n",
       "\n",
       " Vertex attribute names: \n",
       "    priorates totalties vertex.names wealth \n",
       "\n",
       "No edge attributes"
      ]
     },
     "metadata": {},
     "output_type": "display_data"
    }
   ],
   "source": [
    "flomarriage"
   ]
  },
  {
   "cell_type": "markdown",
   "id": "e9dae1b8-483c-4707-a49f-8bb85db21d24",
   "metadata": {},
   "source": [
    "To get the attributes related to the edges or vertices present in the graph we can use the command, get.[vertex, edges].attributes(network, \"name of the attribute\")"
   ]
  },
  {
   "cell_type": "code",
   "execution_count": 16,
   "id": "dd86f46e-95e4-4dac-8ccf-2961bd139f14",
   "metadata": {},
   "outputs": [],
   "source": [
    "family_names = get.vertex.attribute(flomarriage, 'vertex.names')"
   ]
  },
  {
   "cell_type": "code",
   "execution_count": 17,
   "id": "24886313-34a2-4f9a-981b-cc4a6541fe09",
   "metadata": {},
   "outputs": [
    {
     "data": {
      "image/png": "[encoded data removed]",
      "text/plain": [
       "plot without title"
      ]
     },
     "metadata": {
      "image/png": {
       "height": 420,
       "width": 420
      }
     },
     "output_type": "display_data"
    }
   ],
   "source": [
    "par(bg = 'white')\n",
    "plot(flomarriage, label = family_names)"
   ]
  },
  {
   "cell_type": "markdown",
   "id": "4ca42537-5ee2-47e9-a3a2-dd23e7091814",
   "metadata": {},
   "source": [
    "### Bernouli Model (Erdos-Renyi)"
   ]
  },
  {
   "cell_type": "code",
   "execution_count": 21,
   "id": "26e8b801-8ad9-4faa-a1e0-0f5c2c6f71a7",
   "metadata": {
    "collapsed": true,
    "jupyter": {
     "outputs_hidden": true
    },
    "tags": []
   },
   "outputs": [
    {
     "name": "stderr",
     "output_type": "stream",
     "text": [
      "Starting maximum pseudolikelihood estimation (MPLE):\n",
      "\n",
      "Evaluating the predictor and response matrix.\n",
      "\n",
      "Maximizing the pseudolikelihood.\n",
      "\n",
      "Finished MPLE.\n",
      "\n",
      "Stopping at the initial estimate.\n",
      "\n",
      "Evaluating log-likelihood at the estimate. \n",
      "\n",
      "\n"
     ]
    }
   ],
   "source": [
    "flomodel.01 <- ergm(flomarriage ~ edges) "
   ]
  },
  {
   "cell_type": "code",
   "execution_count": 22,
   "id": "f0119243-a624-4efb-8c82-afab10e7a8df",
   "metadata": {},
   "outputs": [
    {
     "data": {
      "text/plain": [
       "Call:\n",
       "ergm(formula = flomarriage ~ edges)\n",
       "\n",
       "Iterations:  5 out of 20 \n",
       "\n",
       "Monte Carlo MLE Results:\n",
       "      Estimate Std. Error MCMC % z value Pr(>|z|)    \n",
       "edges  -1.6094     0.2449      0  -6.571   <1e-04 ***\n",
       "---\n",
       "Signif. codes:  0 ‘***’ 0.001 ‘**’ 0.01 ‘*’ 0.05 ‘.’ 0.1 ‘ ’ 1\n",
       "\n",
       "     Null Deviance: 166.4  on 120  degrees of freedom\n",
       " Residual Deviance: 108.1  on 119  degrees of freedom\n",
       " \n",
       "AIC: 110.1    BIC: 112.9    (Smaller is better.) "
      ]
     },
     "metadata": {},
     "output_type": "display_data"
    }
   ],
   "source": [
    "summary(flomodel.01) "
   ]
  },
  {
   "cell_type": "markdown",
   "id": "45cbd70f-1664-4864-b26a-2ab2178a08a1",
   "metadata": {},
   "source": [
    "To interpret the results we can write the following equation stating the with each unit increase in the number of links, the logodds of having a tie would change to which degree.\n",
    "\n",
    "$logodds = -1.6094 \\times 1$\n",
    "\n",
    "With respect to the equation we got for evidence and probability, we can state that the probability of observing the network having the edge $ij$ is: \n",
    "\n",
    "$\\frac{e^{-1.6094}}{1 + e^{-1.6094}} = 0.200007583$\n",
    "\n",
    "This value is completely inline with the density of the graph which in the Bernouli Model is the probability of having a tie."
   ]
  },
  {
   "cell_type": "code",
   "execution_count": null,
   "id": "dbbef74b-4d4b-4671-9b8c-2c887a1aa07d",
   "metadata": {},
   "outputs": [],
   "source": []
  }
 ],
 "metadata": {
  "kernelspec": {
   "display_name": "R",
   "language": "R",
   "name": "ir"
  },
  "language_info": {
   "codemirror_mode": "r",
   "file_extension": ".r",
   "mimetype": "text/x-r-source",
   "name": "R",
   "pygments_lexer": "r",
   "version": "4.1.0"
  }
 },
 "nbformat": 4,
 "nbformat_minor": 5
}
